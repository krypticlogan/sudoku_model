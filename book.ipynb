{
 "cells": [
  {
   "cell_type": "code",
   "metadata": {
    "ExecuteTime": {
     "end_time": "2024-10-20T08:39:19.564544Z",
     "start_time": "2024-10-20T08:39:15.850183Z"
    }
   },
   "source": [
    "import pandas as pd\n",
    "import numpy as np\n",
    "\n",
    "\n",
    "\n",
    "data = pd.read_csv('train.csv')\n",
    "# print(data)\n",
    "data = np.array(data)\n",
    "m ,n = data.shape\n",
    "np.random.shuffle(data)\n",
    "print(data.shape)\n",
    "\n",
    "# test.shape = (784,1)\n",
    "# test = np.array(list(map(lambda el:[el], test)))\n",
    "# print(test)\n",
    "# test = transform.resize(test, (1, 784))\n",
    "\n",
    "def min_max_normalize(set : np.array):\n",
    "    return (set - np.min(set))/(np.max(set) - np.min(set))\n",
    "\n",
    "# data_train = data.T\n",
    "# print(data)\n",
    "data_train = data[0:int(2*m/3)].T\n",
    "labels_train = data_train[0]\n",
    "x_train = data_train[1:n]\n",
    "# print(x_train.shape)\n",
    "x_train = min_max_normalize(x_train).round()\n",
    "\n",
    "data_test = data[int(2*m/3):m].T\n",
    "labels_test = data_test[0]\n",
    "x_test = data_test[1:n]\n",
    "x_test = min_max_normalize(x_test).round()\n",
    "\n",
    "# x_test = x_test.join(test.T)\n",
    "\n",
    "\n",
    "\n",
    "# x_train = x_train / 255.0\n",
    "# np.random.shuffle(x_train)\n",
    "# print(f'labels {labels_train}')\n",
    "# print(x_train)\n",
    "\n",
    "# x_train.shape\n",
    "layer2 = 128\n",
    "layer3 = 64\n",
    "def init_params():\n",
    "    print('initializing...')\n",
    "    w1 = np.random.rand(layer2,784) - 0.5\n",
    "    b1 = np.random.rand(layer2,1) - 0.5\n",
    "    w2 = np.random.rand(layer3,layer2) - 0.5\n",
    "    b2 = np.random.rand(layer3,1) - 0.5\n",
    "    w3 = np.random.rand(10,layer3)- 0.5\n",
    "    b3 = np.random.rand(10,1)- 0.5\n",
    "    print(w1.shape, b1.shape)\n",
    "    return w1, b1, w2, b2, w3, b3\n",
    "\n",
    "def RelU(z):\n",
    "    relU = np.maximum(z, 0)\n",
    "    return relU\n",
    "\n",
    "def sigmoid(z):\n",
    "    e_negx = np.exp(-z)\n",
    "    sigmoid = 1 / (1 + e_negx)\n",
    "    return sigmoid\n",
    "\n",
    "def softmax(z):\n",
    "    e_z = np.exp(z)\n",
    "    softmax = e_z/sum(e_z)\n",
    "    return softmax\n",
    "\n",
    "def forward_prop(x,w1,b1,w2,b2,w3,b3):\n",
    "    z1 = w1.dot(x) + b1\n",
    "    a1 = RelU(z1)\n",
    "    z2 = w2.dot(a1) + b2\n",
    "    # a2 = RelU(z2)\n",
    "    a2 = sigmoid(z2)\n",
    "    z3 = w3.dot(a2) + b3\n",
    "    a3 = softmax(z3)\n",
    "    # print(a2.shape)\n",
    "    \n",
    "    return z1, a1, z2, a2, z3, a3\n",
    "\n",
    "\n",
    "def one_hot(y):\n",
    "    one_hot = np.zeros((y.size, y.max() + 1))\n",
    "    one_hot[np.arange(y.size), y] = 1\n",
    "    one_hot = one_hot.T\n",
    "    return one_hot\n",
    "\n",
    "def deriv_RelU(z):\n",
    "    return z > 0\n",
    "    # return np.where(z > 0, 1, 0)\n",
    "\n",
    "def deriv_sigmoid(z):\n",
    "    sig = sigmoid(z)\n",
    "    deriv = sig*(1-sig)\n",
    "    return deriv\n",
    "\n",
    "\n",
    "\n",
    "def back_prop(a1, w1, z1, a2, w2, z2, a3, w3, z3, x, y):\n",
    "    one_hot_y = one_hot(y)\n",
    "    \n",
    "    m = y.size\n",
    "#     C0 = np.zeroes(10,1)\n",
    "    dz3 = a3 - one_hot_y\n",
    "    # print(error2[0])\n",
    "    dw3 = dz3.dot(a2.T)/m\n",
    "    db3 = np.sum(dz3)/m\n",
    "\n",
    "    # error2 = w3.T.dot(dz3) * deriv_RelU(z2)\n",
    "    error2 = w3.T.dot(dz3) * deriv_sigmoid(z2)\n",
    "    dw2 = error2.dot(a1.T)/m\n",
    "    db2 = np.sum(error2)/m\n",
    "\n",
    "    error1 = w2.T.dot(error2) * deriv_RelU(z1)\n",
    "    dw1 = error1.dot(x.T)/m\n",
    "    db1 = np.sum(error1)/m\n",
    "    \n",
    "    return dw1, db1, dw2, db2, dw3, db3\n",
    "\n",
    "\n",
    "def update_params(w1, b1, w2, b2, w3, b3, dw1, db1, dw2, db2, dw3, db3, rate):\n",
    "#     print(f'first : w1, b1, w2, b2 : {w1} {b1} {w2} {b2}')\n",
    "    w1 = w1 - rate * dw1\n",
    "    b1 = b1 - rate * db1\n",
    "    w2 = w2 - rate * dw2\n",
    "    b2 = b2 - rate * db2\n",
    "    w3 = w3 - rate * dw3\n",
    "    b3 = b3 - rate * db3\n",
    "    \n",
    "#     print(f'changed: w1, b1, w2, b2 : {w1} {b1} {w2} {b2}')\n",
    "\n",
    "    return w1, b1, w2, b2, w3, b3, dw1, dw2, dw3\n",
    "\n",
    "def get_predictions(a):\n",
    "    return np.argmax(a, 0)\n",
    "\n",
    "def get_accuracy(predictions, y):\n",
    "    return np.sum(predictions == y)  / y.size, np.sum(y**2-predictions**2) / y.size\n",
    "\n",
    "\n"
   ],
   "outputs": [
    {
     "name": "stdout",
     "output_type": "stream",
     "text": [
      "(42000, 785)\n"
     ]
    }
   ],
   "execution_count": 395
  },
  {
   "cell_type": "code",
   "metadata": {
    "ExecuteTime": {
     "end_time": "2024-10-20T07:13:44.393461Z",
     "start_time": "2024-10-20T07:13:44.375890Z"
    }
   },
   "source": [
    "# import itertools\n",
    "def calc_momentum(d_v, d, beta, iteration=None):\n",
    "    d_v = beta*d_v + (1-beta)*d\n",
    "    m_hat = d_v/(1- beta**iteration)\n",
    "    return m_hat\n",
    "\n",
    "def calc_velocity(d_v, d, beta, iteration=None):\n",
    "    d_v = beta*d_v + (1-beta)*(np.square(d))\n",
    "    v_hat = d_v/(1- beta**iteration)\n",
    "    return v_hat\n",
    "\n",
    "def adam(dw, mom_b, vel_b, velocity, momentum, iteration):\n",
    "    epsilon = 1e-8\n",
    "    # momentum = mom_b*momentum + (1-mom_b)*dw\n",
    "    m_hat = calc_momentum(momentum, dw, mom_b, iteration)\n",
    "    # velocity = vel_b*velocity + (1-vel_b)*(dw**2)\n",
    "    # m_hat = momentum/(1- mom_b**iteration)\n",
    "    # v_hat = velocity/(1- vel_b**iteration)\n",
    "    v_hat = calc_velocity(velocity, dw, vel_b, iteration)\n",
    "\n",
    "    return m_hat/(np.sqrt(v_hat) + epsilon), v_hat, m_hat\n",
    "    # return m_hat, v_hat\n",
    "\n",
    "def adam_gradient_descent(x, y, rate, iteration, vw1, mw1, vw2, mw2, vw3, mw3, w1=None, b1=None, w2=None, b2=None, w3=None, b3=None):\n",
    "    \n",
    "\n",
    "    # pdw1, pdw2, pdw3 = dw1, dw2, dw3\n",
    "    z1, a1, z2, a2, z3, a3 = forward_prop(x, w1, b1, w2, b2, w3, b3)\n",
    "    dw1, db1, dw2, db2, dw3, db3 = back_prop(a1, w1, z1, a2, w2, z2, a3, w3, z3, x, y)\n",
    "    \n",
    "    mom_beta = 0.9\n",
    "    vel_beta = 0.999\n",
    " \n",
    "\n",
    "    dw1, vw1, mw1 = adam(w1, mom_beta, vel_beta, vw1, mw1, iteration)\n",
    "    dw2, vw2, mw2 = adam(w2, mom_beta, vel_beta, vw2, mw2, iteration)\n",
    "    dw3, vw3, mw3 = adam(w3, mom_beta, vel_beta, vw3, mw3, iteration)\n",
    "\n",
    "    w1, b1, w2, b2, w3, b3, _, _, _ = update_params(w1, b1, w2, b2, w3, b3, dw1, db1, dw2, db2, dw3, db3, rate)\n",
    "\n",
    "    return w1, b1, w2, b2, w3, b3, a3, vw1, mw1, vw2, mw2, vw3, mw3\n",
    "\n",
    "\n",
    "def gradient_descent(x, y, rate, iteration, momentum=True, decay=.95, w1=None, b1=None, w2=None, b2=None, w3=None, b3=None, v_dw1=0, v_dw2=0, v_dw3=0, v_db1=0, v_db2=0, v_db3=0):\n",
    "    \n",
    "\n",
    "    # pdw1, pdw2, pdw3 = dw1, dw2, dw3\n",
    "    z1, a1, z2, a2, z3, a3 = forward_prop(x, w1, b1, w2, b2, w3, b3)\n",
    "    dw1, db1, dw2, db2, dw3, db3 = back_prop(a1, w1, z1, a2, w2, z2, a3, w3, z3, x, y)\n",
    "    w1, b1, w2, b2, w3, b3, dw1, dw2, dw3 = update_params(w1, b1, w2, b2, w3, b3, dw1, db1, dw2, db2, dw3, db3, rate)\n",
    "    beta = 0.9\n",
    "    \n",
    "    if momentum:\n",
    "        v_dw1 = calc_momentum(v_dw1, dw1, beta, iteration)\n",
    "        v_dw2 = calc_momentum(v_dw2, dw2, beta, iteration)\n",
    "        v_dw3 = calc_momentum(v_dw3, dw3, beta, iteration)\n",
    "        v_db1 = calc_momentum(v_db1, b1, beta, iteration)\n",
    "        v_db2 = calc_momentum(v_db2, b2, beta, iteration)\n",
    "        v_db3 = calc_momentum(v_db3, b3, beta, iteration)\n",
    "    \n",
    "        # if v_dw == None:\n",
    "        #     pdw1 = 0\n",
    "        #     pdw2 = 0\n",
    "        #     pdw3 = 0     \n",
    "        # # print(pdw1)\n",
    "        w1 = w1 - decay*v_dw1\n",
    "        w2 = w2 - decay*v_dw2\n",
    "        w3 = w3 - decay*v_dw3\n",
    "        b1 = b1 - decay*v_db1\n",
    "        b2 = b2 - decay*v_db2\n",
    "        b3 = b3 - decay*v_db3\n",
    "        \n",
    "\n",
    "    return w1, b1, w2, b2, w3, b3, a3, v_dw1, v_dw2, v_dw3, v_db1, v_db2, v_db3\n",
    "# `   34QW2`"
   ],
   "outputs": [],
   "execution_count": 335
  },
  {
   "cell_type": "code",
   "metadata": {
    "ExecuteTime": {
     "end_time": "2024-10-20T07:13:44.459510Z",
     "start_time": "2024-10-20T07:13:44.443295Z"
    }
   },
   "source": [
    "\n",
    "def minibatchGD(x, y, epochs, rate, batch_size=128,optimizer='', validation=[], validKey='' ,w1=None, b1=None, w2=None, b2=None, w3=None, b3=None, sudoku=None, key=None):\n",
    "    xLoss = []\n",
    "    yAcc = []\n",
    "    validationLoss = []\n",
    "    validationAcc = []\n",
    "    # print(y.shape)\n",
    "    # sudokuLoss = None\n",
    "    # if sudoku != None:\n",
    "    # if:\n",
    "    sudokuLoss = []\n",
    "    sudokuAcc = []\n",
    "\n",
    "    load = '----------------------------------------------------------|'\n",
    "    if not isinstance(w1, np.ndarray):\n",
    "        w1, b1, w2, b2, w3, b3 = init_params()\n",
    "    \n",
    "    \n",
    "    for epoch in range(epochs):\n",
    "        pos = 0\n",
    "        iteration = 0\n",
    "        vw1 = np.zeros_like(w1) \n",
    "        mw1 = np.zeros_like(w1)\n",
    "        vw2 = np.zeros_like(w2) \n",
    "        mw2 = np.zeros_like(w2)\n",
    "        vw3 = np.zeros_like(w3) \n",
    "        mw3 = np.zeros_like(w3)\n",
    "        vb1 = np.zeros_like(b1) \n",
    "        vb2 = np.zeros_like(b2)     \n",
    "        vb3 = np.zeros_like(b3) \n",
    "        # \n",
    "        while pos < batch_size:\n",
    "            iteration+=1\n",
    "            batchX = x.T[pos:pos+batch_size].T\n",
    "            batchY = y.T[pos:pos+batch_size].T\n",
    "            # batchYpreds = \n",
    "            # display(x.shape, batchX.shape)\n",
    "            # display(y.shape, batchY.shape)\n",
    "            pos = pos + batch_size\n",
    "            dist = int((len(load)*epoch)/epochs)\n",
    "            bar = ['*']*dist\n",
    "            loader = [*load]\n",
    "            loader[0:dist] = bar\n",
    "            load = ''.join(loader)\n",
    "\n",
    "            # batch = x.T[pos:epoch*batch_size].T\n",
    "            if optimizer == \"adam\":\n",
    "                w1, b1, w2, b2, w3, b3, a3, vw1, mw1, vw2, mw2, vw3, mw3 = adam_gradient_descent(x=batchX, y=batchY, rate=rate, w1=w1, b1=b1, w2=w2, b2=b2, w3=w3, b3=b3,vw1=vw1, mw1=mw1, vw2=vw2, mw2=mw2, vw3=vw3, mw3=mw3, iteration=iteration)\n",
    "            else:\n",
    "                w1, b1, w2, b2, w3, b3, a3, vw1, vw2, vw3, vb1, vb2, vb3 = gradient_descent(x=batchX, y=batchY, rate=rate, iteration=iteration, w1=w1, b1=b1, w2=w2, b2=b2, w3=w3, b3=b3, v_dw1=vw1, v_dw2=vw2, v_dw3=vw3, v_db1=vb1, v_db2=vb2, v_db3=vb3)\n",
    "            # print(a3.shape, batchY.shape)\n",
    "            accuracy, loss = get_accuracy(get_predictions(a3), batchY)\n",
    "            xLoss.append(loss)\n",
    "            yAcc.append(accuracy)\n",
    "            \n",
    "            # print('val', validation.shape, 'w1', w1.shape, 'b1', b1.shape)\n",
    "            \n",
    "            acc, val_loss = get_accuracy(make_predictions(validation, w1, b1, w2, b2, w3, b3), validKey)\n",
    "            validationLoss.append(val_loss)\n",
    "            validationAcc.append(acc)\n",
    "\n",
    "            if sudoku is not None:\n",
    "                sudoku_acc, sudoku_loss = get_accuracy(make_predictions(sudoku, w1, b1, w2, b2, w3, b3), key)\n",
    "                sudokuLoss.append(sudoku_loss)\n",
    "                sudokuAcc.append(sudoku_acc)\n",
    "\n",
    "\n",
    "\n",
    "            if epoch < epochs-1:\n",
    "                print('\\r', f'[{epoch}/{epochs}] {load} {accuracy} {loss}', end='')\n",
    "            else:\n",
    "                print(f'{load} {accuracy} {loss} complete')\n",
    "\n",
    "    return w1, b1, w2, b2, w3, b3, np.array(xLoss), np.array(yAcc), np.array(validationLoss), np.array(validationAcc), np.array(sudokuLoss), np.array(sudokuAcc)\n",
    "\n",
    "def make_predictions(x, w1, b1, w2, b2, w3, b3):\n",
    "    _, _, _, _, _, a3 = forward_prop(x, w1, b1, w2, b2, w3, b3)\n",
    "    predictions = get_predictions(a3)\n",
    "    return predictions\n",
    "\n",
    "# minibatchGD(x_train, y_label,2,2,2)\n",
    "\n",
    "\n",
    "\n"
   ],
   "outputs": [],
   "execution_count": 336
  },
  {
   "cell_type": "code",
   "metadata": {
    "ExecuteTime": {
     "end_time": "2024-10-20T07:13:44.542710Z",
     "start_time": "2024-10-20T07:13:44.504081Z"
    }
   },
   "source": [
    "from skimage import io, transform, color\n",
    "import cv2\n",
    "\n",
    "\n",
    "image = cv2.imread('board.png')\n",
    "# if image.shape[2] == 4:\n",
    "#     image = color.rgb2gray(color.rgba2rgb(image))\n",
    "# else: \n",
    "#     image = color.rgb2gray(image)\n",
    "image = cv2.bitwise_not(image)\n",
    "# print(np.array(image).shape)\n",
    "\n",
    "# image = transform.resize(image, (28, 28))\n",
    "#\n",
    "\n",
    "image = color.rgb2gray(image)\n",
    "\n",
    "def split_grid(image : np.array):\n",
    "    m, n = image.shape\n",
    "    one = image[0:int(m/3),0:int(n/3)]\n",
    "    two = image[0:int(m/3),int(n/3):int(2*n/3)]\n",
    "    three = image[0:int(m/3),int(2*n/3):n]\n",
    "\n",
    "    four = image[int(m/3):int(2*m/3),0:int(n/3)]\n",
    "    five = image[int(m/3):int(2*m/3),int(n/3):int(2*n/3)]\n",
    "    six = image[int(m/3):int(2*m/3),int(2*n/3):n]\n",
    "\n",
    "    seven = image[int(2*m/3):int(m),0:int(n/3)]\n",
    "    eight = image[int(2*m/3):int(m),int(n/3):int(2*n/3)]\n",
    "    nine = image[int(2*m/3):int(m),int(2*n/3):n]\n",
    "\n",
    "    return one, two, three, four, five, six, seven, eight, nine\n",
    "\n",
    "squares = list(split_grid(image))\n",
    "nine = squares[8]\n",
    "\n",
    "spaces = list(split_grid(nine))\n",
    "\n",
    "\n",
    "def get_pixels(image : np.array, show = False):\n",
    "    image = transform.resize(image, (28, 28))\n",
    "    pixels = np.array(image.flatten())\n",
    "    if show: \n",
    "        print(pixels)\n",
    "\n",
    "    return image, np.array([pixels])\n",
    "\n",
    "# print(image2.shape)\n",
    "# io.imshow(image2)\n",
    "# io.show()"
   ],
   "outputs": [],
   "execution_count": 337
  },
  {
   "cell_type": "code",
   "metadata": {
    "ExecuteTime": {
     "end_time": "2024-10-20T07:13:44.593486Z",
     "start_time": "2024-10-20T07:13:44.588870Z"
    }
   },
   "source": [
    "directory = 'assets' \n",
    "\n",
    "\n",
    "import os\n",
    "\n",
    "# print(picture)\n",
    "# io.imshow(picture)\n",
    "# io.show()\n",
    "\n",
    "def create_entry(pixels : np.array, label : str, set : list):\n",
    "    pixels = pixels.tolist()[0]\n",
    "    # print(pixels)\n",
    "    # print(label, type(pixels))\n",
    "    pixels.extend([label])\n",
    "    set.append(pixels)\n",
    "    \n",
    "    return pixels, set\n"
   ],
   "outputs": [],
   "execution_count": 338
  },
  {
   "metadata": {
    "ExecuteTime": {
     "end_time": "2024-10-20T07:13:44.641145Z",
     "start_time": "2024-10-20T07:13:44.633274Z"
    }
   },
   "cell_type": "code",
   "source": [
    "def add_to_test(test, pixels):\n",
    "    # print('added')\n",
    "    return np.append(test, pixels.T, 1)\n",
    "\n",
    "grid_labels = [0, 7, 0, 0, 0, 0,0,3,0,8,3,0,4,0,0,0,0,0,0,4,1,0,0,7,0,0,0,0,4,0,0,2,1,0,0,5,7,0,0,3,0,0,0,0,0,0,6,0,4,0,8,0,0,0,9,0,0,0,0,8,0,0,0,0,0,5,0,0,0,0,0,0,2,8,0,0,0,0,1,0,9]\n",
    "print(len(grid_labels))\n",
    "def format_board(test):\n",
    "    image = cv2.imread('board.png')\n",
    "    image = cv2.bitwise_not(image)\n",
    "\n",
    "    image = color.rgb2gray(image)\n",
    "    # image = image.round()\n",
    "\n",
    "    io.imshow(image)\n",
    "    io.show()\n",
    "\n",
    "    grids = list(split_grid(image))\n",
    "    mini_grids = []\n",
    "    for grid in grids:\n",
    "        spaces = list(split_grid(grid))\n",
    "        mini_grids.append(spaces)\n",
    "        for space in spaces:\n",
    "            # io.imshow(space)\n",
    "            # io.show()\n",
    "            # label = grid_labels[i]\n",
    "            test = add_to_test(test, get_pixels(space)[1])\n",
    "\n",
    "    return mini_grids, test"
   ],
   "outputs": [
    {
     "name": "stdout",
     "output_type": "stream",
     "text": [
      "81\n"
     ]
    }
   ],
   "execution_count": 339
  },
  {
   "cell_type": "code",
   "metadata": {
    "ExecuteTime": {
     "end_time": "2024-10-20T07:13:54.150229Z",
     "start_time": "2024-10-20T07:13:44.723808Z"
    }
   },
   "source": [
    "\n",
    "digits = []\n",
    "# digit_test = []\n",
    "print('loading files...')\n",
    "i = 0\n",
    "for folder in os.listdir(directory):\n",
    "    f = os.path.join(directory, folder)\n",
    "    count = 0\n",
    "\n",
    "\n",
    "    # print(f)\n",
    "    for file in os.listdir(f):\n",
    "        count = count + 1\n",
    "        picture = None\n",
    "        file_name = os.path.join(f, file)\n",
    "        # print(file)\n",
    "        if os.path.isfile(file_name):\n",
    "            # print(file_name)\n",
    "            picture = cv2.imread(file_name)\n",
    "            picture = color.rgb2gray(picture)\n",
    "\n",
    "            _, pixels = get_pixels(picture)\n",
    "            pixels = pixels\n",
    "            label = int(file_name[7])\n",
    "            _, digits = create_entry(pixels, label, digits)\n",
    "\n",
    "\n",
    "# for grid in mini_grids\n",
    "    print(f'{i} : {count} entries\\n')\n",
    "    i = i+1\n",
    "\n",
    "\n",
    "\n",
    "                # print(digits)\n",
    "                # io.imshow()\n",
    "                # io.show()\n",
    "                # print(label, len(entry))\n",
    "    \n",
    "    \n",
    "# digits = np.array(digits)\n",
    "# print(digits.shape)\n",
    "\n",
    "# print(digit_test.shape)\n",
    "\n",
    "\n",
    "# one = digits[0:2]\n",
    "\n",
    "\n",
    "test = np.array(pd.read_csv('test.csv')).T\n",
    "test = min_max_normalize(test)\n",
    "print('test size' , test.shape)\n",
    "grids, test = format_board(test)\n",
    "# print(grids)\n",
    "# print('test size' , test.shape)\n",
    "\n",
    "\n",
    "m, n = test.shape\n",
    "board_squares = test[:, 28000:n]\n",
    "print(board_squares.shape)\n",
    "board_squares = board_squares.round()\n",
    "# io.imshow(board_squares.reshape())\n",
    "# io.show()\n",
    "# space = board_squares[:,0]\n",
    "# io.imshow(space.reshape(28,28))\n",
    "# io.show()\n",
    "for i, grid in enumerate(grids):\n",
    "    labels = grid_labels[i*9:i*9+9]\n",
    "    print('i: ', i, 'labels: ', labels)\n",
    "    for space, label in zip(grid, labels):\n",
    "        # io.imshow(space)\n",
    "        # io.show()\n",
    "        # print(label)\n",
    "        # print(len(space))\n",
    "        _, pixels = get_pixels(space)\n",
    "        _, digits = create_entry(pixels, label, digits)\n",
    "        \n",
    "\n",
    "# digit_test = np.array(digit_test)\n",
    "grid_labels = np.array(grid_labels)\n",
    "digits = np.array(digits)\n",
    "print(digits.shape)\n"
   ],
   "outputs": [
    {
     "name": "stdout",
     "output_type": "stream",
     "text": [
      "loading files...\n",
      "0 : 514 entries\n",
      "\n",
      "1 : 1496 entries\n",
      "\n",
      "2 : 1480 entries\n",
      "\n",
      "3 : 1204 entries\n",
      "\n",
      "4 : 1088 entries\n",
      "\n",
      "5 : 731 entries\n",
      "\n",
      "6 : 1056 entries\n",
      "\n",
      "7 : 1400 entries\n",
      "\n",
      "8 : 1166 entries\n",
      "\n",
      "9 : 1069 entries\n",
      "\n",
      "test size (784, 28000)\n"
     ]
    },
    {
     "data": {
      "text/plain": [
       "<Figure size 640x480 with 1 Axes>"
      ],
      "image/png": "[encoded data removed]"
     },
     "metadata": {},
     "output_type": "display_data"
    },
    {
     "name": "stdout",
     "output_type": "stream",
     "text": [
      "(784, 81)\n",
      "i:  0 labels:  [0, 7, 0, 0, 0, 0, 0, 3, 0]\n",
      "i:  1 labels:  [8, 3, 0, 4, 0, 0, 0, 0, 0]\n",
      "i:  2 labels:  [0, 4, 1, 0, 0, 7, 0, 0, 0]\n",
      "i:  3 labels:  [0, 4, 0, 0, 2, 1, 0, 0, 5]\n",
      "i:  4 labels:  [7, 0, 0, 3, 0, 0, 0, 0, 0]\n",
      "i:  5 labels:  [0, 6, 0, 4, 0, 8, 0, 0, 0]\n",
      "i:  6 labels:  [9, 0, 0, 0, 0, 8, 0, 0, 0]\n",
      "i:  7 labels:  [0, 0, 5, 0, 0, 0, 0, 0, 0]\n",
      "i:  8 labels:  [2, 8, 0, 0, 0, 0, 1, 0, 9]\n",
      "(11285, 785)\n"
     ]
    }
   ],
   "execution_count": 340
  },
  {
   "cell_type": "code",
   "metadata": {
    "ExecuteTime": {
     "end_time": "2024-10-20T07:44:01.826069Z",
     "start_time": "2024-10-20T07:44:01.571363Z"
    }
   },
   "source": [
    "np.random.shuffle(digits)\n",
    "# np.random.shuffle(digit_test)\n",
    "print(digits.shape)\n",
    "m, n = digits.shape\n",
    "digits = digits.round()\n",
    "digit_train = digits[0:int(2*m/3)].T\n",
    "# digit_train = digits.T\n",
    "digit_labels = digit_train[-1]\n",
    "x_digit_train = digit_train[0:n-1]\n",
    "first_digit = x_digit_train[:,-1]\n",
    "first = x_train[:,1]\n",
    "\n",
    "# m, n = digit_test.shape\n",
    "digit_test = digits[int(2*m/3):m].T\n",
    "# test_digits = digit_test.T\n",
    "digit_test_labels = digit_test[-1]\n",
    "x_digit_test = digit_test[0:n-1]\n",
    "\n",
    "# first_digit_test = x_digit_test[:,-1]\n",
    "# display(first_digit_test, first_digit_test.shape)\n",
    "\n",
    "# x_digit_train = min_max_normalize(digit_train[0:n-1])\n",
    "# print(first_digit[first_digit != 0], first[first != 0], first_digit.shape == first.shape)\n",
    "# first = first.round()\n",
    "io.imshow(first.reshape(28,28))\n",
    "io.show()\n",
    "io.imshow(first_digit.reshape(28,28))\n",
    "io.show()\n",
    "# io.imshow(first_digit_test.reshape(28,28))\n",
    "io.show()\n",
    "\n",
    "display(digit_train.shape)\n",
    "\n",
    "print(x_digit_test.shape, digit_test_labels.shape)\n",
    "\n",
    "\n"
   ],
   "outputs": [
    {
     "name": "stdout",
     "output_type": "stream",
     "text": [
      "(11285, 785)\n"
     ]
    },
    {
     "data": {
      "text/plain": [
       "<Figure size 640x480 with 1 Axes>"
      ],
      "image/png": "[encoded data removed]"
     },
     "metadata": {},
     "output_type": "display_data"
    },
    {
     "data": {
      "text/plain": [
       "<Figure size 640x480 with 1 Axes>"
      ],
      "image/png": "[encoded data removed]"
     },
     "metadata": {},
     "output_type": "display_data"
    },
    {
     "data": {
      "text/plain": [
       "(785, 7523)"
      ]
     },
     "metadata": {},
     "output_type": "display_data"
    },
    {
     "name": "stdout",
     "output_type": "stream",
     "text": [
      "(784, 3762) (3762,)\n"
     ]
    }
   ],
   "execution_count": 356
  },
  {
   "cell_type": "code",
   "metadata": {
    "ExecuteTime": {
     "end_time": "2024-10-20T07:13:54.558998Z",
     "start_time": "2024-10-20T07:13:54.556521Z"
    }
   },
   "source": [
    "\n",
    "\n"
   ],
   "outputs": [],
   "execution_count": 341
  },
  {
   "cell_type": "code",
   "metadata": {
    "ExecuteTime": {
     "end_time": "2024-10-20T07:13:54.572533Z",
     "start_time": "2024-10-20T07:13:54.569003Z"
    }
   },
   "source": [
    "\n",
    "\n",
    "# print(space[space != 0], len(board_squares[:,0]))\n",
    "# data_train = data[0:int(2*m/3)].T"
   ],
   "outputs": [],
   "execution_count": 342
  },
  {
   "metadata": {
    "ExecuteTime": {
     "end_time": "2024-10-20T07:13:54.628273Z",
     "start_time": "2024-10-20T07:13:54.625034Z"
    }
   },
   "cell_type": "code",
   "source": "# print(type(grids))\n",
   "outputs": [],
   "execution_count": 343
  },
  {
   "cell_type": "code",
   "metadata": {
    "ExecuteTime": {
     "end_time": "2024-10-20T07:29:58.487736Z",
     "start_time": "2024-10-20T07:22:47.458068Z"
    }
   },
   "source": [
    "from matplotlib import pyplot as plt\n",
    "from sklearn.metrics import confusion_matrix, ConfusionMatrixDisplay\n",
    "\n",
    "mnist_rate = 0.07\n",
    "# iters = 500\n",
    "# iters = 80\n",
    "print(x_train.shape, x_test.shape)\n",
    "\n",
    "# w1, b1, w2, b2, w3, b3, lossY, accY, validationLoss, validationAcc, _, _ = minibatchGD(x=x_train, y=labels_train,  epochs=1200, rate=mnist_rate, batch_size=int(x_train.shape[1]), validation=x_test, validKey=labels_test)\n",
    "# w1, b1, w2, b2, w3, b3, lossY, accY, validationLoss, validationAcc, _, _ = minibatchGD(x=x_train, y=labels_train, epochs=25, batch_size=2048, rate=mnist_rate, validation=x_test, validKey=labels_test)\n",
    "\n",
    "# preds = make_predictions(x_test, w1, b1, w2, b2, w3, b3)\n",
    "# display(preds)\n",
    "# display(labels_test)\n",
    "# mnist_acc, mnist_loss = get_accuracy(preds, labels_test)\n",
    "# print(f'test accuracy : {get_accuracy(preds, labels_test)}')\n",
    "# \n",
    "# # display(lossY)\n",
    "# plt.plot(lossY, label='loss')\n",
    "# plt.plot(validationLoss, label='validation')\n",
    "# plt.title('Loss')\n",
    "# plt.legend()\n",
    "# plt.show()\n",
    "# plt.plot(accY*100, label='train')\n",
    "# plt.plot(validationAcc*100, label='validation')\n",
    "# plt.legend()\n",
    "# plt.title('Accuracy')\n",
    "# plt.show()\n",
    "# \n",
    "# # firstY = \n",
    "# \n",
    "# confusion = confusion_matrix(preds, labels_test)\n",
    "# disp = ConfusionMatrixDisplay(confusion_matrix=confusion, display_labels=[0,1,2,3,4,5,6,7,8,9])\n",
    "# disp.plot(cmap='hot')\n",
    "\n",
    "\n",
    "# prev : 800\n",
    "\n",
    "\n",
    "\n",
    "# # print(w1, b1, w2, b2, w3, b3)\n",
    " "
   ],
   "outputs": [
    {
     "name": "stdout",
     "output_type": "stream",
     "text": [
      "(784, 28000) (784, 14000)\n",
      "[0 3 8 ... 8 5 6]\n",
      "initializing...\n",
      " [1198/1200] **********************************************************| 0.9879285714285714 -0.0125071428571428578**********************************************************| 0.9879285714285714 -0.013464285714285715 complete\n"
     ]
    },
    {
     "data": {
      "text/plain": [
       "array([4, 2, 2, ..., 4, 8, 9], dtype=int64)"
      ]
     },
     "metadata": {},
     "output_type": "display_data"
    },
    {
     "data": {
      "text/plain": [
       "array([4, 2, 2, ..., 4, 1, 9], dtype=int64)"
      ]
     },
     "metadata": {},
     "output_type": "display_data"
    },
    {
     "name": "stdout",
     "output_type": "stream",
     "text": [
      "test accuracy : (0.9414285714285714, 0.12835714285714286)\n"
     ]
    },
    {
     "data": {
      "text/plain": [
       "<Figure size 640x480 with 1 Axes>"
      ],
      "image/png": "[encoded data removed]"
     },
     "metadata": {},
     "output_type": "display_data"
    },
    {
     "data": {
      "text/plain": [
       "<Figure size 640x480 with 1 Axes>"
      ],
      "image/png": "[encoded data removed]"
     },
     "metadata": {},
     "output_type": "display_data"
    },
    {
     "data": {
      "text/plain": [
       "<sklearn.metrics._plot.confusion_matrix.ConfusionMatrixDisplay at 0x27a574e5490>"
      ]
     },
     "execution_count": 353,
     "metadata": {},
     "output_type": "execute_result"
    },
    {
     "data": {
      "text/plain": [
       "<Figure size 640x480 with 2 Axes>"
      ],
      "image/png": "[encoded data removed]"
     },
     "metadata": {},
     "output_type": "display_data"
    }
   ],
   "execution_count": 353
  },
  {
   "cell_type": "code",
   "metadata": {
    "ExecuteTime": {
     "end_time": "2024-10-20T08:43:43.656915Z",
     "start_time": "2024-10-20T08:43:43.520870Z"
    }
   },
   "source": [
    "digit_rate = .07\n",
    "# w1, b1, w2, b2, w3, b3, digiLossY, accY, validationLoss, validationAcc, sudokuLoss, sudokuAcc = minibatchGD(x=x_digit_train, y=digit_labels.astype(int), epochs=600, batch_size=int(x_digit_train.shape[1]), validation=x_digit_test, rate=digit_rate, w1=w1, b1=b1, w2=w2, b2=b2, w3=w3, b3=b3,sudoku=board_squares, key=grid_labels, validKey=digit_test_labels)\n",
    "# w1, b1, w2, b2, w3, b3, digiLossY, accY, validationLoss, validationAcc, sudokuLoss, sudokuAcc = minibatchGD(x=x_digit_train, y=digit_labels.astype(int), epochs=30, batch_size=2048, validation=x_digit_test, validKey=digit_test_labels, rate=digit_rate, w1=w1, b1=b1, w2=w2, b2=b2, w3=w3, b3=b3, sudoku=board_squares, key=grid_labels)\n",
    "# w1, b1, w2, b2, w3, b3, digiLossY2, accY2 = gradient_descent(x_digit_train, digit_labels.astype(int), 1000, digit_rate-.01, w1, b1, w2, b2, w3, b3)\n",
    "# w1, b1, w2, b2, w3, b3, digiLossY3, accY3 = gradient_descent(x_digit_train, digit_labels.astype(int), 300, .07, w1, b1, w2, b2, w3, b3)\n",
    "\n",
    "\n",
    "def get_weights():\n",
    "    w1, b1, w2, b2, w3, b3, = np.genfromtxt('data/params/w1.csv', delimiter=',')[1:], np.genfromtxt('data/params/b1.csv', delimiter=',')[1:], np.genfromtxt('data/params/w2.csv', delimiter=',')[1:], np.genfromtxt('data/params/b2.csv', delimiter=',')[1:], np.genfromtxt('data/params/w3.csv', delimiter=',')[1:], np.genfromtxt('data/params/b3.csv', delimiter=',')[1:]\n",
    "\n",
    "    b1 = b1.reshape(-1,1)\n",
    "    b2 = b2.reshape(-1,1)\n",
    "    b3 = b3.reshape(-1,1)\n",
    "    return w1, b1, w2, b2, w3, b3, b1\n",
    "\n",
    "w1, b1, w2, b2, w3, b3 = get_weights()\n",
    "# print(b1.shape, b2.shape, b3.shape)\n",
    "# b1.reshape(b1.shape[0], 1)\n",
    "\n",
    "# print(b1.shape, b2.shape, b3.shape)\n",
    "print(w1.shape, w2.shape, w3.shape)\n",
    "print(labels_train)\n",
    "\n",
    "preds = make_predictions(x_digit_test, w1, b1, w2, b2, w3, b3)\n",
    "\n",
    "print(f'test accuracy : {get_accuracy(preds, digit_test_labels)}')\n",
    "\n",
    "# plt.plot(digiLossY, label='train')\n",
    "# plt.plot(validationLoss, label='validation')\n",
    "# plt.plot(sudokuLoss, label='sudoku')\n",
    "# plt.legend()\n",
    "# plt.title('Loss')\n",
    "# plt.show()\n",
    "# plt.plot(accY*100, label='train')\n",
    "# plt.plot(validationAcc*100,label='validation')\n",
    "# plt.plot(sudokuAcc*100,label='suoko')\n",
    "# plt.legend()\n",
    "# plt.title('Accuracy')\n",
    "# plt.show()\n",
    "\n"
   ],
   "outputs": [
    {
     "name": "stdout",
     "output_type": "stream",
     "text": [
      "initializing...\n",
      "(128, 784) (128, 1)\n",
      "(128, 1) (64, 1) (10, 1)\n",
      "(128, 784) (64, 128) (10, 64)\n",
      "[0 9 6 ... 4 0 0]\n",
      "test accuracy : (0.9540138224348751, -0.10074428495481128)\n"
     ]
    }
   ],
   "execution_count": 398
  },
  {
   "cell_type": "code",
   "metadata": {
    "ExecuteTime": {
     "end_time": "2024-10-20T07:45:29.905966Z",
     "start_time": "2024-10-20T07:45:29.560663Z"
    }
   },
   "source": [
    "# plt.plot(digiLossY, label='train')\n",
    "# plt.plot(validationLoss, label='validation')\n",
    "# plt.plot(sudokuLoss, label='sudoku')\n",
    "# plt.legend()\n",
    "# plt.title('Loss')\n",
    "# plt.show()\n",
    "# plt.plot(accY*100, label='train')\n",
    "# plt.plot(validationAcc*100,label='validation')\n",
    "# plt.plot(sudokuAcc*100,label='sudoku')\n",
    "# plt.legend()\n",
    "# plt.title('Accuracy')\n",
    "# plt.show()\n",
    "\n",
    "\n",
    "# confusion = confusion_matrix(preds, digit_test_labels)\n",
    "# disp = ConfusionMatrixDisplay(confusion_matrix=confusion, display_labels=[0,1,2,3,4,5,6,7,8,9])\n",
    "# disp.plot(cmap='hot')"
   ],
   "outputs": [
    {
     "data": {
      "text/plain": [
       "<Figure size 640x480 with 1 Axes>"
      ],
      "image/png": "[encoded data removed]"
     },
     "metadata": {},
     "output_type": "display_data"
    },
    {
     "data": {
      "text/plain": [
       "<Figure size 640x480 with 1 Axes>"
      ],
      "image/png": "[encoded data removed]"
     },
     "metadata": {},
     "output_type": "display_data"
    }
   ],
   "execution_count": 357
  },
  {
   "cell_type": "code",
   "metadata": {
    "ExecuteTime": {
     "end_time": "2024-10-20T08:43:59.458797Z",
     "start_time": "2024-10-20T08:43:59.295576Z"
    }
   },
   "source": [
    "\n",
    "preds = make_predictions(board_squares, w1, b1, w2, b2, w3, b3)\n",
    "\n",
    "\n",
    "print(f'{preds} \\n {grid_labels}')\n",
    "\n",
    "preds_layout = \" \"\n",
    "actual_layout = \" \"\n",
    "# actual_layout\n",
    "\n",
    "\n",
    "    # print(preds_grid, \"\\n\", actual_grid)\n",
    "    \n",
    "\n",
    "digit_acc, digit_loss = get_accuracy(preds, grid_labels)\n",
    "# print(preds == grid_labels)\n",
    "print(f'test accuracy : {digit_acc*100:.2f}%, {digit_loss:.2f} loss')\n",
    "indexes = [j + 1 for j in range(preds.shape[0])]\n",
    "\n",
    "map = (preds == grid_labels).reshape(9,9)\n",
    "display(map)\n",
    "formatted = zip(indexes, preds)\n",
    "submission = pd.DataFrame(formatted, columns = ['ImageID', 'Label'])\n",
    "\n",
    "# np.savetxt('puzzle_accuracy.csv',np.array([grid_accuracy]), fmt='%.2f')\n",
    "    \n",
    "submission.to_csv('puzzle.csv', index=False)\n",
    "plt.imshow(map, cmap='hot')\n",
    "plt.show()\n",
    "\n",
    "\n",
    "results = {\n",
    "    'hiddenlayer1 neurons' : layer2,\n",
    "    'hiddenlayer2 neurons' : layer3,\n",
    "    'mnist learning rate' : mnist_rate,\n",
    "    'digits learning rate' : digit_rate,\n",
    "    'mnist final accuracy' : mnist_acc,\n",
    "    'mnist loss' : mnist_loss,\n",
    "    'digit final accuracy' : accY[-1],\n",
    "    'digit loss' : digit_loss,\n",
    "    'puzzle accuracy' : digit_acc\n",
    "}\n",
    "\n",
    "\n",
    "# preds = make_predictions(x_test, w1, b1, w2, b2, w3, b3)\n",
    "# display(preds) \n",
    "# print(len(preds))\n",
    "# print(len(labels_test))\n",
    "# display(labels_test)\n",
    "\n",
    "\n",
    "print(results)\n",
    "data = pd.DataFrame([results], columns=None)\n",
    "\n",
    "data.to_csv('training.csv', mode='a')\n",
    "\n",
    "# display(pd.DataFrame(w1, columns=None))\n",
    "\n",
    "# weights.to_csv('weights.csv', index = False)\n",
    "\n",
    "\n",
    "# best 97% : 1st train .1, 600, 2nd train .15, 800 , and rounded values for both sets\n",
    "\n",
    "# 95% 97% : 1st train .12, 700, 2nd train .15, 1300 , and rounded values for both sets\n"
   ],
   "outputs": [
    {
     "name": "stdout",
     "output_type": "stream",
     "text": [
      "[0 7 0 0 0 0 0 3 0 8 3 0 4 0 0 0 0 0 0 4 1 0 0 7 0 0 0 0 4 0 0 2 1 0 0 5 7\n",
      " 0 0 3 0 0 0 0 0 0 6 0 4 0 8 0 0 0 9 0 0 0 0 8 0 0 0 0 0 5 0 0 0 0 0 0 2 8\n",
      " 0 0 0 0 1 0 9] \n",
      " [0 7 0 0 0 0 0 3 0 8 3 0 4 0 0 0 0 0 0 4 1 0 0 7 0 0 0 0 4 0 0 2 1 0 0 5 7\n",
      " 0 0 3 0 0 0 0 0 0 6 0 4 0 8 0 0 0 9 0 0 0 0 8 0 0 0 0 0 5 0 0 0 0 0 0 2 8\n",
      " 0 0 0 0 1 0 9]\n",
      "test accuracy : 100.00%, 0.00 loss\n"
     ]
    },
    {
     "data": {
      "text/plain": [
       "array([[ True,  True,  True,  True,  True,  True,  True,  True,  True],\n",
       "       [ True,  True,  True,  True,  True,  True,  True,  True,  True],\n",
       "       [ True,  True,  True,  True,  True,  True,  True,  True,  True],\n",
       "       [ True,  True,  True,  True,  True,  True,  True,  True,  True],\n",
       "       [ True,  True,  True,  True,  True,  True,  True,  True,  True],\n",
       "       [ True,  True,  True,  True,  True,  True,  True,  True,  True],\n",
       "       [ True,  True,  True,  True,  True,  True,  True,  True,  True],\n",
       "       [ True,  True,  True,  True,  True,  True,  True,  True,  True],\n",
       "       [ True,  True,  True,  True,  True,  True,  True,  True,  True]])"
      ]
     },
     "metadata": {},
     "output_type": "display_data"
    },
    {
     "data": {
      "text/plain": [
       "<Figure size 640x480 with 1 Axes>"
      ],
      "image/png": "[encoded data removed]"
     },
     "metadata": {},
     "output_type": "display_data"
    },
    {
     "name": "stdout",
     "output_type": "stream",
     "text": [
      "{'hiddenlayer1 neurons': 128, 'hiddenlayer2 neurons': 64, 'mnist learning rate': 0.07, 'digits learning rate': 0.07, 'mnist final accuracy': 0.9414285714285714, 'mnist loss': 0.12835714285714286, 'digit final accuracy': 0.9953476006912136, 'digit loss': 0.0, 'puzzle accuracy': 1.0}\n"
     ]
    }
   ],
   "execution_count": 399
  },
  {
   "metadata": {
    "ExecuteTime": {
     "end_time": "2024-10-20T08:44:07.311700Z",
     "start_time": "2024-10-20T08:44:07.303818Z"
    }
   },
   "cell_type": "code",
   "source": [
    "for i in range(0, 9):\n",
    "    preds_grid = preds[i*9:i*9+9]\n",
    "    actual_grid = grid_labels[i*9:i*9+9]\n",
    "    # if i == 0:\n",
    "        # preds_layout+= \"---------------\\n\"\n",
    "        # preds_layout += \" | \"\n",
    "        \n",
    "        # actual_layout+= \"---------------\\n\"\n",
    "        # actual_layout += \" | \"\n",
    "        \n",
    "    for j in range(0, 3):\n",
    "        if j%2 == 0:\n",
    "            # print(j)\n",
    "            preds_layout += \" | \"\n",
    "            actual_layout += \" | \"\n",
    "        preds_row = preds_grid[j*3:j*3+3]\n",
    "        actual_row = actual_grid[j*3:j*3+3]\n",
    "        \n",
    "        preds_row = preds_row.tolist()\n",
    "        preds_row = [str(x) for x in preds_row]\n",
    "        \n",
    "        actual_row = actual_row.tolist()\n",
    "        actual_row = [str(x) for x in actual_row]\n",
    "        \n",
    "        preds_row = \" \".join(preds_row)\n",
    "        preds_layout+=preds_row\n",
    "        # preds_layout+=\"\\n\"\n",
    "        \n",
    "        actual_row = \" \".join(actual_row)\n",
    "        actual_layout+=actual_row\n",
    "        \n",
    "        # if j%2 == 0:\n",
    "            # print(j)\n",
    "            # preds_layout += \" | \"\n",
    "            # actual_layout += \" | \"\n",
    "        # actual_layout+=\"\\n\"\n",
    "        \n",
    "        \n",
    "# print(preds_layout)\n",
    "print(actual_layout)"
   ],
   "outputs": [
    {
     "name": "stdout",
     "output_type": "stream",
     "text": [
      "  | 0 7 00 0 0 | 0 3 0 | 8 3 04 0 0 | 0 0 0 | 0 4 10 0 7 | 0 0 0 | 0 4 00 2 1 | 0 0 5 | 7 0 03 0 0 | 0 0 0 | 0 6 04 0 8 | 0 0 0 | 9 0 00 0 8 | 0 0 0 | 0 0 50 0 0 | 0 0 0 | 2 8 00 0 0 | 1 0 9\n"
     ]
    }
   ],
   "execution_count": 400
  },
  {
   "cell_type": "code",
   "metadata": {
    "ExecuteTime": {
     "end_time": "2024-10-20T08:19:53.987142Z",
     "start_time": "2024-10-20T08:19:53.838830Z"
    }
   },
   "source": [
    "pd.DataFrame(w1).to_csv('data/params/w1.csv', index=False)\n",
    "pd.DataFrame(b1).to_csv('data/params/b1.csv', index=False)\n",
    "pd.DataFrame(w2).to_csv('data/params/w2.csv', index=False)\n",
    "pd.DataFrame(b2).to_csv('data/params/b2.csv', index=False)\n",
    "pd.DataFrame(w3).to_csv('data/params/w3.csv', index=False)\n",
    "pd.DataFrame(b3).to_csv('data/params/b3.csv', index=False)\n",
    "# display(b1)\n",
    "# preds = [0 , 1, 2, 4, 5, 7, 2, 5, 8,5 ,3]\n",
    "# grid_labels = [2,3,5,3,5,5,6,3,8,5]\n",
    "# \n",
    "# from sklearn.metrics import confusion_matrix, ConfusionMatrixDisplay\n",
    "# confusion = confusion_matrix(preds, grid_labels)\n",
    "# disp = ConfusionMatrixDisplay(confusion_matrix=confusion, display_labels=[0,1,2,3,4,5,6,7,8,9])\n",
    "# disp.plot(cmap='hot')\n",
    "\n",
    "\n",
    "# disp.plot(c)\n",
    "# plt.imshow(confusion, cmap='hot')\n",
    "# plt.show()"
   ],
   "outputs": [],
   "execution_count": 379
  },
  {
   "cell_type": "markdown",
   "metadata": {},
   "source": []
  },
  {
   "cell_type": "code",
   "metadata": {
    "ExecuteTime": {
     "end_time": "2024-10-20T08:20:00.329688Z",
     "start_time": "2024-10-20T08:20:00.306259Z"
    }
   },
   "source": [
    "training = pd.read_csv('data/results/training.csv')\n",
    "display(training)"
   ],
   "outputs": [
    {
     "data": {
      "text/plain": [
       "     Unnamed: 0  hiddenlayer1 neurons  hiddenlayer2 neurons  \\\n",
       "0           0.0                    52                    52   \n",
       "1           NaN  hiddenlayer1 neurons  hiddenlayer2 neurons   \n",
       "2           0.0                    52                    28   \n",
       "3           NaN  hiddenlayer1 neurons  hiddenlayer2 neurons   \n",
       "4           0.0                    52                    28   \n",
       "..          ...                   ...                   ...   \n",
       "154         0.0                    32                    16   \n",
       "155         NaN  hiddenlayer1 neurons  hiddenlayer2 neurons   \n",
       "156         0.0                    64                    32   \n",
       "157         NaN  hiddenlayer1 neurons  hiddenlayer2 neurons   \n",
       "158         0.0                   128                    64   \n",
       "\n",
       "     mnist learning rate  digits learning rate  mnist final accuracy  \\\n",
       "0                   0.04                  0.03    0.8852380952380953   \n",
       "1    mnist learning rate  digits learning rate  mnist final accuracy   \n",
       "2                   0.04                  0.03    0.8672380952380953   \n",
       "3    mnist learning rate  digits learning rate  mnist final accuracy   \n",
       "4                   0.03                  0.03    0.8562857142857143   \n",
       "..                   ...                   ...                   ...   \n",
       "154                 0.05                  0.09    0.8182142857142857   \n",
       "155  mnist learning rate  digits learning rate  mnist final accuracy   \n",
       "156                 0.05                  0.09    0.8982857142857142   \n",
       "157  mnist learning rate  digits learning rate  mnist final accuracy   \n",
       "158                 0.05                  0.09    0.6516428571428572   \n",
       "\n",
       "                mnist loss  digit final accuracy            digit loss  \\\n",
       "0    -0.056857142857142856    0.6799740344044142   -1.0987654320987654   \n",
       "1               mnist loss  digit final accuracy            digit loss   \n",
       "2      0.15276190476190477    0.6471924699772801    -3.814814814814815   \n",
       "3               mnist loss  digit final accuracy            digit loss   \n",
       "4      0.23457142857142857    0.6815968841285297   -1.8148148148148149   \n",
       "..                     ...                   ...                   ...   \n",
       "154     0.6214285714285714                0.8104   -2.6296296296296298   \n",
       "155             mnist loss  digit final accuracy            digit loss   \n",
       "156    0.10728571428571429                0.8994  -0.43209876543209874   \n",
       "157             mnist loss  digit final accuracy            digit loss   \n",
       "158     3.1452142857142857                   1.0   -1.5061728395061729   \n",
       "\n",
       "        puzzle accuracy  \n",
       "0    0.9135802469135802  \n",
       "1       puzzle accuracy  \n",
       "2    0.9135802469135802  \n",
       "3       puzzle accuracy  \n",
       "4    0.9135802469135802  \n",
       "..                  ...  \n",
       "154  0.8395061728395061  \n",
       "155     puzzle accuracy  \n",
       "156  0.9382716049382716  \n",
       "157     puzzle accuracy  \n",
       "158  0.7160493827160493  \n",
       "\n",
       "[159 rows x 10 columns]"
      ],
      "text/html": [
       "<div>\n",
       "<style scoped>\n",
       "    .dataframe tbody tr th:only-of-type {\n",
       "        vertical-align: middle;\n",
       "    }\n",
       "\n",
       "    .dataframe tbody tr th {\n",
       "        vertical-align: top;\n",
       "    }\n",
       "\n",
       "    .dataframe thead th {\n",
       "        text-align: right;\n",
       "    }\n",
       "</style>\n",
       "<table border=\"1\" class=\"dataframe\">\n",
       "  <thead>\n",
       "    <tr style=\"text-align: right;\">\n",
       "      <th></th>\n",
       "      <th>Unnamed: 0</th>\n",
       "      <th>hiddenlayer1 neurons</th>\n",
       "      <th>hiddenlayer2 neurons</th>\n",
       "      <th>mnist learning rate</th>\n",
       "      <th>digits learning rate</th>\n",
       "      <th>mnist final accuracy</th>\n",
       "      <th>mnist loss</th>\n",
       "      <th>digit final accuracy</th>\n",
       "      <th>digit loss</th>\n",
       "      <th>puzzle accuracy</th>\n",
       "    </tr>\n",
       "  </thead>\n",
       "  <tbody>\n",
       "    <tr>\n",
       "      <th>0</th>\n",
       "      <td>0.0</td>\n",
       "      <td>52</td>\n",
       "      <td>52</td>\n",
       "      <td>0.04</td>\n",
       "      <td>0.03</td>\n",
       "      <td>0.8852380952380953</td>\n",
       "      <td>-0.056857142857142856</td>\n",
       "      <td>0.6799740344044142</td>\n",
       "      <td>-1.0987654320987654</td>\n",
       "      <td>0.9135802469135802</td>\n",
       "    </tr>\n",
       "    <tr>\n",
       "      <th>1</th>\n",
       "      <td>NaN</td>\n",
       "      <td>hiddenlayer1 neurons</td>\n",
       "      <td>hiddenlayer2 neurons</td>\n",
       "      <td>mnist learning rate</td>\n",
       "      <td>digits learning rate</td>\n",
       "      <td>mnist final accuracy</td>\n",
       "      <td>mnist loss</td>\n",
       "      <td>digit final accuracy</td>\n",
       "      <td>digit loss</td>\n",
       "      <td>puzzle accuracy</td>\n",
       "    </tr>\n",
       "    <tr>\n",
       "      <th>2</th>\n",
       "      <td>0.0</td>\n",
       "      <td>52</td>\n",
       "      <td>28</td>\n",
       "      <td>0.04</td>\n",
       "      <td>0.03</td>\n",
       "      <td>0.8672380952380953</td>\n",
       "      <td>0.15276190476190477</td>\n",
       "      <td>0.6471924699772801</td>\n",
       "      <td>-3.814814814814815</td>\n",
       "      <td>0.9135802469135802</td>\n",
       "    </tr>\n",
       "    <tr>\n",
       "      <th>3</th>\n",
       "      <td>NaN</td>\n",
       "      <td>hiddenlayer1 neurons</td>\n",
       "      <td>hiddenlayer2 neurons</td>\n",
       "      <td>mnist learning rate</td>\n",
       "      <td>digits learning rate</td>\n",
       "      <td>mnist final accuracy</td>\n",
       "      <td>mnist loss</td>\n",
       "      <td>digit final accuracy</td>\n",
       "      <td>digit loss</td>\n",
       "      <td>puzzle accuracy</td>\n",
       "    </tr>\n",
       "    <tr>\n",
       "      <th>4</th>\n",
       "      <td>0.0</td>\n",
       "      <td>52</td>\n",
       "      <td>28</td>\n",
       "      <td>0.03</td>\n",
       "      <td>0.03</td>\n",
       "      <td>0.8562857142857143</td>\n",
       "      <td>0.23457142857142857</td>\n",
       "      <td>0.6815968841285297</td>\n",
       "      <td>-1.8148148148148149</td>\n",
       "      <td>0.9135802469135802</td>\n",
       "    </tr>\n",
       "    <tr>\n",
       "      <th>...</th>\n",
       "      <td>...</td>\n",
       "      <td>...</td>\n",
       "      <td>...</td>\n",
       "      <td>...</td>\n",
       "      <td>...</td>\n",
       "      <td>...</td>\n",
       "      <td>...</td>\n",
       "      <td>...</td>\n",
       "      <td>...</td>\n",
       "      <td>...</td>\n",
       "    </tr>\n",
       "    <tr>\n",
       "      <th>154</th>\n",
       "      <td>0.0</td>\n",
       "      <td>32</td>\n",
       "      <td>16</td>\n",
       "      <td>0.05</td>\n",
       "      <td>0.09</td>\n",
       "      <td>0.8182142857142857</td>\n",
       "      <td>0.6214285714285714</td>\n",
       "      <td>0.8104</td>\n",
       "      <td>-2.6296296296296298</td>\n",
       "      <td>0.8395061728395061</td>\n",
       "    </tr>\n",
       "    <tr>\n",
       "      <th>155</th>\n",
       "      <td>NaN</td>\n",
       "      <td>hiddenlayer1 neurons</td>\n",
       "      <td>hiddenlayer2 neurons</td>\n",
       "      <td>mnist learning rate</td>\n",
       "      <td>digits learning rate</td>\n",
       "      <td>mnist final accuracy</td>\n",
       "      <td>mnist loss</td>\n",
       "      <td>digit final accuracy</td>\n",
       "      <td>digit loss</td>\n",
       "      <td>puzzle accuracy</td>\n",
       "    </tr>\n",
       "    <tr>\n",
       "      <th>156</th>\n",
       "      <td>0.0</td>\n",
       "      <td>64</td>\n",
       "      <td>32</td>\n",
       "      <td>0.05</td>\n",
       "      <td>0.09</td>\n",
       "      <td>0.8982857142857142</td>\n",
       "      <td>0.10728571428571429</td>\n",
       "      <td>0.8994</td>\n",
       "      <td>-0.43209876543209874</td>\n",
       "      <td>0.9382716049382716</td>\n",
       "    </tr>\n",
       "    <tr>\n",
       "      <th>157</th>\n",
       "      <td>NaN</td>\n",
       "      <td>hiddenlayer1 neurons</td>\n",
       "      <td>hiddenlayer2 neurons</td>\n",
       "      <td>mnist learning rate</td>\n",
       "      <td>digits learning rate</td>\n",
       "      <td>mnist final accuracy</td>\n",
       "      <td>mnist loss</td>\n",
       "      <td>digit final accuracy</td>\n",
       "      <td>digit loss</td>\n",
       "      <td>puzzle accuracy</td>\n",
       "    </tr>\n",
       "    <tr>\n",
       "      <th>158</th>\n",
       "      <td>0.0</td>\n",
       "      <td>128</td>\n",
       "      <td>64</td>\n",
       "      <td>0.05</td>\n",
       "      <td>0.09</td>\n",
       "      <td>0.6516428571428572</td>\n",
       "      <td>3.1452142857142857</td>\n",
       "      <td>1.0</td>\n",
       "      <td>-1.5061728395061729</td>\n",
       "      <td>0.7160493827160493</td>\n",
       "    </tr>\n",
       "  </tbody>\n",
       "</table>\n",
       "<p>159 rows × 10 columns</p>\n",
       "</div>"
      ]
     },
     "metadata": {},
     "output_type": "display_data"
    }
   ],
   "execution_count": 380
  },
  {
   "cell_type": "code",
   "metadata": {
    "ExecuteTime": {
     "end_time": "2024-10-20T07:20:56.268909Z",
     "start_time": "2024-10-20T07:20:56.265482Z"
    }
   },
   "source": [
    "# preds = make_predictions(board_squares, w1, b1, w2, b2, w3, b3)\n",
    "# print(f'{preds} \\n {grid_labels}')\n",
    "# grid_accuracy = get_accuracy(preds, grid_labels)\n",
    "# # print(preds == grid_labels)\n",
    "# print(f'test accuracy : {grid_accuracy}')\n",
    "# indexes = [j + 1 for j in range(preds.shape[0])]\n",
    "\n",
    "# map = (preds == grid_labels).reshape(9,9)\n",
    "# display(map)\n",
    "# display(grid_labels.reshape(9,9))\n",
    "# preds = zip(indexes, preds)\n",
    "# submission = pd.DataFrame(preds, columns = ['ImageID', 'Label'])\n",
    "\n",
    "# np.savetxt('data/results/puzzle_accuracy.csv',np.array([grid_accuracy]), fmt='%.2f')\n",
    "    \n",
    "# submission.to_csv('puzzle.csv', index=False)\n",
    "# plt.imshow(map, cmap='hot')\n",
    "# plt.show()"
   ],
   "outputs": [],
   "execution_count": 350
  }
 ],
 "metadata": {
  "kernelspec": {
   "display_name": "base",
   "language": "python",
   "name": "python3"
  },
  "language_info": {
   "codemirror_mode": {
    "name": "ipython",
    "version": 3
   },
   "file_extension": ".py",
   "mimetype": "text/x-python",
   "name": "python",
   "nbconvert_exporter": "python",
   "pygments_lexer": "ipython3",
   "version": "3.11.4"
  }
 },
 "nbformat": 4,
 "nbformat_minor": 2
}
